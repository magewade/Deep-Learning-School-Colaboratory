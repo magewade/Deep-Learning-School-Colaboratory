{
  "nbformat": 4,
  "nbformat_minor": 0,
  "metadata": {
    "colab": {
      "provenance": [],
      "collapsed_sections": [
        "pMIGJWn-JKEq",
        "lGGho2N9L3h7",
        "1oK6OhixGj_0"
      ],
      "include_colab_link": true
    },
    "kernelspec": {
      "name": "python3",
      "display_name": "Python 3"
    },
    "language_info": {
      "name": "python"
    },
    "gpuClass": "standard"
  },
  "cells": [
    {
      "cell_type": "markdown",
      "metadata": {
        "id": "view-in-github",
        "colab_type": "text"
      },
      "source": [
        "<a href=\"https://colab.research.google.com/github/magewade/Machine-Learning-MFTI-/blob/main/3_5_%D0%9F%D1%80%D0%B8%D0%BC%D0%B5%D0%BD%D0%B5%D0%BD%D0%B8%D0%B5_%D1%81%D0%BF%D0%B8%D1%81%D0%BA%D0%BE%D0%B2_%D0%B2_%D1%80%D0%B5%D0%B0%D0%BB%D1%8C%D0%BD%D1%8B%D1%85_%D0%B7%D0%B0%D0%B4%D0%B0%D1%87%D0%B0%D1%85.ipynb\" target=\"_parent\"><img src=\"https://colab.research.google.com/assets/colab-badge.svg\" alt=\"Open In Colab\"/></a>"
      ]
    },
    {
      "cell_type": "code",
      "source": [
        "\n",
        "from keras.models import Model\n",
        "from keras.models import load_model\n",
        "from keras.optimizers import Adam\n",
        "from keras.utils.vis_utils import model_to_dot\n",
        "from keras import backend as K\n",
        "from keras.losses import sparse_categorical_crossentropy, categorical_crossentropy, mean_squared_error, BinaryCrossentropy\n",
        "from keras.callbacks import EarlyStopping, TensorBoard, ModelCheckpoint\n",
        "from keras.layers import Input, Layer, Dense, BatchNormalization, Concatenate, Flatten, Conv1D, MaxPooling1D, Dropout\n",
        "from keras.utils import to_categorical\n",
        "from keras.metrics import Precision as k_precision, Recall as k_recall\n",
        "from keras.metrics import PrecisionAtRecall, TruePositives as tp, TrueNegatives as tn, FalseNegatives as fn, FalsePositives as fp\n",
        "from keras import initializers\n",
        "import numpy as np\n",
        "import math"
      ],
      "metadata": {
        "id": "CWD-yGcWi4PC"
      },
      "execution_count": null,
      "outputs": []
    },
    {
      "cell_type": "code",
      "source": [
        "pool3,output_task_1,output_task_t = 0,0,0"
      ],
      "metadata": {
        "id": "jZCERBxRkgQ6"
      },
      "execution_count": null,
      "outputs": []
    },
    {
      "cell_type": "code",
      "source": [
        "\"\"\"To specify: number of used parameter;output sizes of each conv layer; kernal sizes for conv; sizes for pooling.\"\"\"\n",
        "def create_mtl_model(input_dim,ft=[256,512,256],kn=[5,3,1],pl=[3,1,1]): \n",
        "    \"\"\"common layer defination\"\"\"\n",
        "    inputs = Input(shape=(input_dim,1), name='inputs')\n",
        "    # To define the first CNN-like cycle \n",
        "    conv1 = Conv1D(filters=ft[0], kernel_size=kn[0], strides=1, padding='same', activation='relu', name='conv1')(inputs)\n",
        "    pool1 = MaxPooling1D(pool_size=pl[0], name='pool1')(conv1)\n",
        "    pool1 = BatchNormalization(name ='batch_norm_1')(pool1)\n",
        "    pool1 = Dropout(0.1,name=\"dropout1\")(pool1)\n",
        "    #compute the kernal_size for side branch so the layers to concate have the same shapes.\n",
        "    shape_initi = math.floor(math.ceil(input_dim-kn[0]+1)/pl[0])\n",
        "    shape_final = math.floor(math.floor(shape_initi/pl[1])/pl[2])\n",
        "    conv1a = Conv1D(filters=ft[2], kernel_size=(shape_initi-shape_final+1), padding='valid', activation='relu', name='conv1a')(pool1)\n",
        "    conv1a = BatchNormalization(name = 'batch_norm_1a')(conv1a)\n",
        "    conv1a = Dropout(0.1,name=\"dropout1a\")(conv1a)\n",
        "    #...... (The second and third conv&pool process are setted similar to the first cycle)\n",
        "    #combine and flatten \n",
        "    concat = Concatenate(axis=-1, name='concat_layer')([conv1a, pool3])\n",
        "    concat = BatchNormalization(name = 'batch_norm_concat')(concat)\n",
        "    conv_all = Conv1D(filters=256, kernel_size=1, padding=\"valid\",name='conv_all')(concat)\n",
        "    flatten = Flatten(name='flatten')(conv_all)\n",
        "    full = Dense(1024, activation='relu', name='full')(flatten)\n",
        "    full = Dropout(0.1,name=\"dropout_full\")(full)\n",
        "    \"\"\"task_specific defination\"\"\"\n",
        "    net_task = Dense(32, kernel_initializer=initializers.RandomNormal(stddev=0.01), activation='relu')(full)\n",
        "    output_task = Dense(1, activation='sigmoid', name='output_task_1')(net_task)\n",
        "    # ...... (setup all tasks)\n",
        "    model = Model(inputs=inputs, outputs=[output_task_1,output_task_t]) #take in all output of T tasks\n",
        "    return model"
      ],
      "metadata": {
        "id": "naVYwFFGi8s5"
      },
      "execution_count": null,
      "outputs": []
    },
    {
      "cell_type": "markdown",
      "source": [
        "### Массив и циклы "
      ],
      "metadata": {
        "id": "RiyCOsyYAUDN"
      }
    },
    {
      "cell_type": "code",
      "source": [
        "for i in range(1, 4):\n",
        "    for j in range(3, 5):\n",
        "        print(i + j, end='')\n",
        "     # 45 67 78   "
      ],
      "metadata": {
        "id": "TjxxdgjJxjuP",
        "colab": {
          "base_uri": "https://localhost:8080/"
        },
        "outputId": "d92a0dd1-ed8f-4ffa-d501-5051f42d905a"
      },
      "execution_count": null,
      "outputs": [
        {
          "output_type": "stream",
          "name": "stdout",
          "text": [
            "455667"
          ]
        }
      ]
    },
    {
      "cell_type": "code",
      "source": [
        "numbers = [1, 2, 3, 4, 5, 6, 7, 8, 9]"
      ],
      "metadata": {
        "id": "UP0PXmAbAqVs"
      },
      "execution_count": null,
      "outputs": []
    },
    {
      "cell_type": "code",
      "source": [
        "total = 0\n",
        "for a in range(1, 100):\n",
        "    for b in range(1, 100):\n",
        "        for c in range(1, 100):\n",
        "           for d in range(1, 100):\n",
        "              for e in range(1, 100):\n",
        "                if (a**5) + (b**5) + (c**5)+(d**5)==e**5:\n",
        "                  total += 1\n",
        "                  print('a =', a, 'b =', b, 'c =', c, 'd=', d, 'e=', e)\n",
        "print('Общее количество натуральных решений =', total)"
      ],
      "metadata": {
        "id": "pJspBCFO_7tb",
        "colab": {
          "base_uri": "https://localhost:8080/",
          "height": 237
        },
        "outputId": "084f41ff-ef84-49ee-c5cb-676a79ee266a"
      },
      "execution_count": null,
      "outputs": [
        {
          "output_type": "error",
          "ename": "KeyboardInterrupt",
          "evalue": "ignored",
          "traceback": [
            "\u001b[0;31m---------------------------------------------------------------------------\u001b[0m",
            "\u001b[0;31mKeyboardInterrupt\u001b[0m                         Traceback (most recent call last)",
            "\u001b[0;32m<ipython-input-1-f957387b46ee>\u001b[0m in \u001b[0;36m<cell line: 2>\u001b[0;34m()\u001b[0m\n\u001b[1;32m      5\u001b[0m            \u001b[0;32mfor\u001b[0m \u001b[0md\u001b[0m \u001b[0;32min\u001b[0m \u001b[0mrange\u001b[0m\u001b[0;34m(\u001b[0m\u001b[0;36m1\u001b[0m\u001b[0;34m,\u001b[0m \u001b[0;36m100\u001b[0m\u001b[0;34m)\u001b[0m\u001b[0;34m:\u001b[0m\u001b[0;34m\u001b[0m\u001b[0;34m\u001b[0m\u001b[0m\n\u001b[1;32m      6\u001b[0m               \u001b[0;32mfor\u001b[0m \u001b[0me\u001b[0m \u001b[0;32min\u001b[0m \u001b[0mrange\u001b[0m\u001b[0;34m(\u001b[0m\u001b[0;36m1\u001b[0m\u001b[0;34m,\u001b[0m \u001b[0;36m100\u001b[0m\u001b[0;34m)\u001b[0m\u001b[0;34m:\u001b[0m\u001b[0;34m\u001b[0m\u001b[0;34m\u001b[0m\u001b[0m\n\u001b[0;32m----> 7\u001b[0;31m                 \u001b[0;32mif\u001b[0m \u001b[0;34m(\u001b[0m\u001b[0ma\u001b[0m\u001b[0;34m**\u001b[0m\u001b[0;36m5\u001b[0m\u001b[0;34m)\u001b[0m \u001b[0;34m+\u001b[0m \u001b[0;34m(\u001b[0m\u001b[0mb\u001b[0m\u001b[0;34m**\u001b[0m\u001b[0;36m5\u001b[0m\u001b[0;34m)\u001b[0m \u001b[0;34m+\u001b[0m \u001b[0;34m(\u001b[0m\u001b[0mc\u001b[0m\u001b[0;34m**\u001b[0m\u001b[0;36m5\u001b[0m\u001b[0;34m)\u001b[0m\u001b[0;34m+\u001b[0m\u001b[0;34m(\u001b[0m\u001b[0md\u001b[0m\u001b[0;34m**\u001b[0m\u001b[0;36m5\u001b[0m\u001b[0;34m)\u001b[0m\u001b[0;34m==\u001b[0m\u001b[0me\u001b[0m\u001b[0;34m**\u001b[0m\u001b[0;36m5\u001b[0m\u001b[0;34m:\u001b[0m\u001b[0;34m\u001b[0m\u001b[0;34m\u001b[0m\u001b[0m\n\u001b[0m\u001b[1;32m      8\u001b[0m                   \u001b[0mtotal\u001b[0m \u001b[0;34m+=\u001b[0m \u001b[0;36m1\u001b[0m\u001b[0;34m\u001b[0m\u001b[0;34m\u001b[0m\u001b[0m\n\u001b[1;32m      9\u001b[0m                   \u001b[0mprint\u001b[0m\u001b[0;34m(\u001b[0m\u001b[0;34m'a ='\u001b[0m\u001b[0;34m,\u001b[0m \u001b[0ma\u001b[0m\u001b[0;34m,\u001b[0m \u001b[0;34m'b ='\u001b[0m\u001b[0;34m,\u001b[0m \u001b[0mb\u001b[0m\u001b[0;34m,\u001b[0m \u001b[0;34m'c ='\u001b[0m\u001b[0;34m,\u001b[0m \u001b[0mc\u001b[0m\u001b[0;34m,\u001b[0m \u001b[0;34m'd='\u001b[0m\u001b[0;34m,\u001b[0m \u001b[0md\u001b[0m\u001b[0;34m,\u001b[0m \u001b[0;34m'e='\u001b[0m\u001b[0;34m,\u001b[0m \u001b[0me\u001b[0m\u001b[0;34m)\u001b[0m\u001b[0;34m\u001b[0m\u001b[0;34m\u001b[0m\u001b[0m\n",
            "\u001b[0;31mKeyboardInterrupt\u001b[0m: "
          ]
        }
      ]
    },
    {
      "cell_type": "code",
      "source": [
        "numbers = [1, 2, 3, 4, 5, 6, 7, 8, 9]\n",
        "mass_sum = 0 \n",
        "\n",
        "for i in numbers:\n",
        "  mass_sum += i\n",
        "\n",
        "print(\"Cумма значений массива равна:\", mass_sum)\n",
        "print(sum(numbers))"
      ],
      "metadata": {
        "id": "U9sVv9FhD_gN"
      },
      "execution_count": null,
      "outputs": []
    },
    {
      "cell_type": "markdown",
      "source": [
        "Прибавим к каждому элементу число"
      ],
      "metadata": {
        "id": "leuX3-wvFzx8"
      }
    },
    {
      "cell_type": "code",
      "source": [
        "evaluations = [4, 2, 3, 4, 3, 3, 3, 2, 3]\n",
        "\n",
        "for i in evaluations:\n",
        "   i = i + 1\n",
        "   print(i, end=', ')\n",
        "print()\n",
        "print(\"Новый массив оценок:\", evaluations)"
      ],
      "metadata": {
        "colab": {
          "base_uri": "https://localhost:8080/"
        },
        "id": "sAw52drJFUZ0",
        "outputId": "e1890465-72fd-4dc6-f478-43a0ccc12af7"
      },
      "execution_count": null,
      "outputs": [
        {
          "output_type": "stream",
          "name": "stdout",
          "text": [
            "5, 3, 4, 5, 4, 4, 4, 3, 4, \n",
            "Новый массив оценок: [4, 2, 3, 4, 3, 3, 3, 2, 3]\n"
          ]
        }
      ]
    },
    {
      "cell_type": "code",
      "source": [
        "i"
      ],
      "metadata": {
        "colab": {
          "base_uri": "https://localhost:8080/"
        },
        "id": "4YVRTKB6qazC",
        "outputId": "80f34e49-b060-44bf-f5ef-631d608528be"
      },
      "execution_count": null,
      "outputs": [
        {
          "output_type": "execute_result",
          "data": {
            "text/plain": [
              "4"
            ]
          },
          "metadata": {},
          "execution_count": 7
        }
      ]
    },
    {
      "cell_type": "code",
      "source": [
        "S"
      ],
      "metadata": {
        "id": "SY14NSKDxzVh"
      },
      "execution_count": null,
      "outputs": []
    },
    {
      "cell_type": "code",
      "source": [
        "evaluations = [4, 2, 3, 4, 3, 3, 3, 2, 3]\n",
        "\n",
        "mass_len = len(evaluations)\n",
        "print(mass_len, \"m 1\")\n",
        "for i in range(mass_len):\n",
        "  if i == mass_len-1:\n",
        "    print(i, \"i2\")\n",
        "  else:  \n",
        "    print(i, end=\", j\")\n",
        "for i in evaluations:\n",
        "  print(i, end=\" \")"
      ],
      "metadata": {
        "colab": {
          "base_uri": "https://localhost:8080/"
        },
        "id": "AK-YH_h6JBq1",
        "outputId": "14eac6bc-f98d-4c1e-d4a5-51ca903b6bb8"
      },
      "execution_count": null,
      "outputs": [
        {
          "output_type": "stream",
          "name": "stdout",
          "text": [
            "9 m 1\n",
            "0, j1, j2, j3, j4, j5, j6, j7, j8 i2\n",
            "4 2 3 4 3 3 3 2 3 "
          ]
        }
      ]
    },
    {
      "cell_type": "markdown",
      "source": [
        "Получим каждый элемент массива"
      ],
      "metadata": {
        "id": "8PokWdDeLbhj"
      }
    },
    {
      "cell_type": "code",
      "execution_count": null,
      "metadata": {
        "colab": {
          "base_uri": "https://localhost:8080/"
        },
        "id": "eWcfbgB8sbC2",
        "outputId": "0ad83ff1-76c9-4b16-89b9-36e3a71daa10"
      },
      "outputs": [
        {
          "output_type": "stream",
          "name": "stdout",
          "text": [
            "4  \n",
            "2  \n",
            "3  \n",
            "4  \n",
            "3  \n",
            "3  \n",
            "3  \n",
            "2  \n",
            "3  \n"
          ]
        }
      ],
      "source": [
        "evaluations = [4, 2, 3, 4, 3, 3, 3, 2, 3]\n",
        "\n",
        "for i in range(len(evaluations)):\n",
        "  print(evaluations[i],\" \")"
      ]
    },
    {
      "cell_type": "code",
      "source": [
        "evaluations = [4, 2, 3, 4, 3, 3, 3, 2, 3]\n",
        "\n",
        "for i in range(len(evaluations)):\n",
        "  evaluations[i] += 1\n",
        "\n",
        "print(\"Новый массив оценок:\", evaluations)"
      ],
      "metadata": {
        "colab": {
          "base_uri": "https://localhost:8080/"
        },
        "id": "UmpdRFBuLea_",
        "outputId": "b2303a58-7492-4b94-acef-8b661d1d7a17"
      },
      "execution_count": null,
      "outputs": [
        {
          "output_type": "stream",
          "name": "stdout",
          "text": [
            "Новый массив оценок: [5, 3, 4, 5, 4, 4, 4, 3, 4]\n"
          ]
        }
      ]
    },
    {
      "cell_type": "markdown",
      "source": [
        "### In, len, sum, all, any\n",
        "\n",
        "Общие методы для разных контейнеров, рассмотрим их на примере списков\n"
      ],
      "metadata": {
        "id": "ZI59YMwQI3uZ"
      }
    },
    {
      "cell_type": "markdown",
      "source": [
        "оператор вхождения **in**"
      ],
      "metadata": {
        "id": "wnexc7DuM0pb"
      }
    },
    {
      "cell_type": "code",
      "source": [
        "evaluations_10b = [4, 2, 3, 4, 3, 3, 0, 2, 3]\n",
        "evaluations_7a = [4, 4, 3, 4, 3, 3, 3, 3, 3]"
      ],
      "metadata": {
        "id": "1BVQOF6hMRhB"
      },
      "execution_count": null,
      "outputs": []
    },
    {
      "cell_type": "code",
      "source": [
        "2 in evaluations_10b # наличие двойки за тест у класса"
      ],
      "metadata": {
        "colab": {
          "base_uri": "https://localhost:8080/"
        },
        "id": "rjUlZ5zVI1oP",
        "outputId": "351520cd-977b-4bfe-e0a6-5534db2c33e4"
      },
      "execution_count": null,
      "outputs": [
        {
          "output_type": "execute_result",
          "data": {
            "text/plain": [
              "True"
            ]
          },
          "metadata": {},
          "execution_count": 17
        }
      ]
    },
    {
      "cell_type": "code",
      "source": [
        "3 in evaluations_7a"
      ],
      "metadata": {
        "colab": {
          "base_uri": "https://localhost:8080/"
        },
        "id": "cFlJNb7EMfka",
        "outputId": "0bd378bd-f2ef-490f-da8a-6901e02950e5"
      },
      "execution_count": null,
      "outputs": [
        {
          "output_type": "execute_result",
          "data": {
            "text/plain": [
              "True"
            ]
          },
          "metadata": {},
          "execution_count": 18
        }
      ]
    },
    {
      "cell_type": "markdown",
      "source": [
        "Длина массива"
      ],
      "metadata": {
        "id": "jUa-m0oYM3YW"
      }
    },
    {
      "cell_type": "code",
      "source": [
        "a = \"daldasd\"\n",
        "b = a.split()\n",
        "print(b)"
      ],
      "metadata": {
        "colab": {
          "base_uri": "https://localhost:8080/"
        },
        "id": "L2uMzfQrJBWH",
        "outputId": "c40f2664-eb35-4d01-fac4-a63a0b54dbcf"
      },
      "execution_count": null,
      "outputs": [
        {
          "output_type": "stream",
          "name": "stdout",
          "text": [
            "['daldasd']\n"
          ]
        }
      ]
    },
    {
      "cell_type": "markdown",
      "source": [
        "Сумма элементов"
      ],
      "metadata": {
        "id": "Ydf4y4AeeXLM"
      }
    },
    {
      "cell_type": "code",
      "source": [
        "a = [1,2,2,3,1,8]\n",
        "sum(a)"
      ],
      "metadata": {
        "colab": {
          "base_uri": "https://localhost:8080/"
        },
        "id": "sNhCfsJZXZVB",
        "outputId": "32e64e0c-d74e-46cc-e453-fcba3c4a4172"
      },
      "execution_count": null,
      "outputs": [
        {
          "output_type": "execute_result",
          "data": {
            "text/plain": [
              "17"
            ]
          },
          "metadata": {},
          "execution_count": 12
        }
      ]
    },
    {
      "cell_type": "code",
      "source": [
        "sum([1, 2, 3])"
      ],
      "metadata": {
        "colab": {
          "base_uri": "https://localhost:8080/"
        },
        "id": "LJSCOVGteavB",
        "outputId": "fcfa8392-cfff-420b-bb92-8a557837ebe3"
      },
      "execution_count": null,
      "outputs": [
        {
          "output_type": "execute_result",
          "data": {
            "text/plain": [
              "6"
            ]
          },
          "metadata": {},
          "execution_count": 21
        }
      ]
    },
    {
      "cell_type": "markdown",
      "source": [
        "функции all(x) и any(x)\n",
        "\n",
        "Функция all возвращает логическое значение True, если все элементы последовательности равны True (или последовательность пуста) и False в противном случае.\n",
        "\n",
        "Напоминание о приведении типов: к значению True приводятся все отличные от нуля числа и любые непустые последовательности, к значению False приводится число нуль и все пустые последовательности."
      ],
      "metadata": {
        "id": "qHIIB0PoXjSu"
      }
    },
    {
      "cell_type": "code",
      "source": [
        "all([True, True, 1])"
      ],
      "metadata": {
        "colab": {
          "base_uri": "https://localhost:8080/"
        },
        "id": "NLNYx043ej7g",
        "outputId": "3456baf0-2cb3-467c-972f-302798ce31f1"
      },
      "execution_count": null,
      "outputs": [
        {
          "output_type": "execute_result",
          "data": {
            "text/plain": [
              "True"
            ]
          },
          "metadata": {},
          "execution_count": 22
        }
      ]
    },
    {
      "cell_type": "code",
      "source": [
        "all([\"\"])"
      ],
      "metadata": {
        "colab": {
          "base_uri": "https://localhost:8080/"
        },
        "id": "vLa8E_JZaCtU",
        "outputId": "2e25214b-4a25-4759-a2e3-e798a3e0adc0"
      },
      "execution_count": null,
      "outputs": [
        {
          "output_type": "execute_result",
          "data": {
            "text/plain": [
              "False"
            ]
          },
          "metadata": {},
          "execution_count": 23
        }
      ]
    },
    {
      "cell_type": "code",
      "source": [
        "all([1, 0 , 2])"
      ],
      "metadata": {
        "colab": {
          "base_uri": "https://localhost:8080/"
        },
        "id": "sEHVYw3BXa49",
        "outputId": "14f89980-bdc3-412e-c9af-8dec751255cd"
      },
      "execution_count": null,
      "outputs": [
        {
          "output_type": "execute_result",
          "data": {
            "text/plain": [
              "False"
            ]
          },
          "metadata": {},
          "execution_count": 24
        }
      ]
    },
    {
      "cell_type": "markdown",
      "source": [
        "\n",
        "\n",
        "*   Новый пункт\n",
        "*   Новый пункт\n",
        "\n"
      ],
      "metadata": {
        "id": "9iBfbelsV2Yv"
      }
    },
    {
      "cell_type": "code",
      "source": [
        "all([True, True, False])"
      ],
      "metadata": {
        "colab": {
          "base_uri": "https://localhost:8080/"
        },
        "id": "5Cko4t7TXeJS",
        "outputId": "69a6f9bc-e9a4-4653-8ad7-b3a64b5129a8"
      },
      "execution_count": null,
      "outputs": [
        {
          "output_type": "execute_result",
          "data": {
            "text/plain": [
              "False"
            ]
          },
          "metadata": {},
          "execution_count": 25
        }
      ]
    },
    {
      "cell_type": "markdown",
      "source": [
        "Функция any возвращает логическое значение True, если хотя бы один элемент непустой последовательности\n",
        "равен True. В противном случае, а также если последовательность пуста, возвращает False."
      ],
      "metadata": {
        "id": "wlxVqXCOXufb"
      }
    },
    {
      "cell_type": "code",
      "source": [
        "any([False, False, True])"
      ],
      "metadata": {
        "colab": {
          "base_uri": "https://localhost:8080/"
        },
        "id": "4uD7mmlUXfVu",
        "outputId": "d39d3cdd-c727-4080-8a2b-92df6a1ed9b7"
      },
      "execution_count": null,
      "outputs": [
        {
          "output_type": "execute_result",
          "data": {
            "text/plain": [
              "True"
            ]
          },
          "metadata": {},
          "execution_count": 27
        }
      ]
    },
    {
      "cell_type": "code",
      "source": [
        "any([False, False, False])"
      ],
      "metadata": {
        "colab": {
          "base_uri": "https://localhost:8080/"
        },
        "id": "W1fljNDPXzll",
        "outputId": "dddae3ce-7ad2-433b-8762-a7b3d23713d5"
      },
      "execution_count": null,
      "outputs": [
        {
          "output_type": "execute_result",
          "data": {
            "text/plain": [
              "False"
            ]
          },
          "metadata": {},
          "execution_count": 26
        }
      ]
    },
    {
      "cell_type": "markdown",
      "source": [
        "### Слайсинг (срезы)"
      ],
      "metadata": {
        "id": "pMIGJWn-JKEq"
      }
    },
    {
      "cell_type": "code",
      "source": [],
      "metadata": {
        "id": "dr07Wf3da8oZ"
      },
      "execution_count": null,
      "outputs": []
    },
    {
      "cell_type": "markdown",
      "source": [
        "\n",
        "\n",
        "1.   Новый пункт\n",
        "\n",
        "1.   Новый пункт\n",
        "2.   Новый пункт\n",
        "\n",
        "\n",
        "2.   Новый пункт\n",
        "\n",
        "\n",
        "В Python имеется удобное средство получения частей упорядоченных последовательностей, в частности строк: слайсы (они же срезы или сечения. Синтаксис операции:\n",
        "\n",
        "$$s[n: m: k]$$\n",
        "\n",
        "Где $s$ - имя переменной строкового типа, $n, m, k$ выражения целого типа ($k \\neq 0$)."
      ],
      "metadata": {
        "id": "qQsg9fI9GFCu"
      }
    },
    {
      "cell_type": "markdown",
      "source": [
        "\n",
        "Значение указанного выражения составляется из символов с индексами равными $x = n +i * k$, где $0 \\leq i \\leq \\frac{m-n}{k}$, причем в том же порядке, что и в строке $s$. Для простоты запоминания можно интерпретировать слайс так:\n",
        "\n",
        "С какого индекса n (включая), по какой индекс m (не включая), с каким шагом k.\n",
        "\n",
        "Если внутри квадратных скобок стоит одно двоеточие, то считается, что это двоеточие между первым и вторым\n",
        "параметрами (n и m). В этом случае сечение строки подпоследовательность исходной строки начиная с символа с индексом n и заканчивая символом с индексом m-1.\n",
        "* Если не указан первый параметр (начало подстроки), то его значение полагается равным 0\n",
        "* Если не указан второй параметр (конец подстроки), то он полагается равным len(s)\n",
        "* Если не указан третий параметр (шаг), то он полагается равным 1."
      ],
      "metadata": {
        "id": "fz1fZPncGIFg"
      }
    },
    {
      "cell_type": "code",
      "source": [
        "c = [1, 2, 3, 4, 5, 6, 7, 8, 9]\n",
        "a = c[1:5]\n",
        "a\n"
      ],
      "metadata": {
        "id": "Zy30QSRge3tl",
        "colab": {
          "base_uri": "https://localhost:8080/"
        },
        "outputId": "5ef7e2d2-45f9-4ebc-b866-a2dc3bbb10fe"
      },
      "execution_count": null,
      "outputs": [
        {
          "output_type": "execute_result",
          "data": {
            "text/plain": [
              "[2, 3, 4, 5]"
            ]
          },
          "metadata": {},
          "execution_count": 1
        }
      ]
    },
    {
      "cell_type": "code",
      "source": [
        "# с первого включительно по 4й не включя индекс\n",
        "c[1:4]"
      ],
      "metadata": {
        "colab": {
          "base_uri": "https://localhost:8080/"
        },
        "id": "pOWTbLnUJQvF",
        "outputId": "fcc6035c-6cd2-4b6a-d5f2-a2f3cbfcc0d5"
      },
      "execution_count": null,
      "outputs": [
        {
          "output_type": "execute_result",
          "data": {
            "text/plain": [
              "[2, 3, 4]"
            ]
          },
          "metadata": {},
          "execution_count": 2
        }
      ]
    },
    {
      "cell_type": "code",
      "source": [
        "c[1:]"
      ],
      "metadata": {
        "colab": {
          "base_uri": "https://localhost:8080/"
        },
        "id": "8NfE3B1_JaEM",
        "outputId": "a2ff3e89-e438-4320-f055-fa6138535eae"
      },
      "execution_count": null,
      "outputs": [
        {
          "output_type": "execute_result",
          "data": {
            "text/plain": [
              "[2, 3, 4, 5, 6, 7, 8, 9]"
            ]
          },
          "metadata": {},
          "execution_count": 3
        }
      ]
    },
    {
      "cell_type": "code",
      "source": [
        "c[:2]"
      ],
      "metadata": {
        "colab": {
          "base_uri": "https://localhost:8080/"
        },
        "id": "yjyWg-8yJhjM",
        "outputId": "5326f31b-2fe2-4ef9-849f-9acf8c16b3f3"
      },
      "execution_count": null,
      "outputs": [
        {
          "output_type": "execute_result",
          "data": {
            "text/plain": [
              "[1, 2]"
            ]
          },
          "metadata": {},
          "execution_count": 4
        }
      ]
    },
    {
      "cell_type": "code",
      "source": [
        "c[:3:2] # с нулевого включительно по третий не включая с шагом 2"
      ],
      "metadata": {
        "colab": {
          "base_uri": "https://localhost:8080/"
        },
        "id": "08zUcutMJkMU",
        "outputId": "fe2b5bdb-31b2-4c96-f5fc-8dd6ce0b094b"
      },
      "execution_count": null,
      "outputs": [
        {
          "output_type": "execute_result",
          "data": {
            "text/plain": [
              "[1, 3]"
            ]
          },
          "metadata": {},
          "execution_count": 5
        }
      ]
    },
    {
      "cell_type": "code",
      "source": [
        "# шагаем с нулевого индекса по последний с шагом - 1\n",
        "# это и есть разворот списка\n",
        "c[::-1]"
      ],
      "metadata": {
        "colab": {
          "base_uri": "https://localhost:8080/"
        },
        "id": "TYzEXITiJDhe",
        "outputId": "011c9933-4390-44f0-ba5a-cf3f35735829"
      },
      "execution_count": null,
      "outputs": [
        {
          "output_type": "execute_result",
          "data": {
            "text/plain": [
              "[9, 8, 7, 6, 5, 4, 3, 2, 1]"
            ]
          },
          "metadata": {},
          "execution_count": 6
        }
      ]
    },
    {
      "cell_type": "markdown",
      "source": [
        "Важное отличие списков от строк заключается в том, что списки можно изменять - как его отдельные элементы, так и перечень самих элементов (добавлять, удалять элементы из последовательности и т.п.). Ниже указаны некоторые такие операции:"
      ],
      "metadata": {
        "id": "EU7vq8VxKJdP"
      }
    },
    {
      "cell_type": "code",
      "source": [
        "# заменим список на 2м индексе на единицу\n",
        "c[2] = 1"
      ],
      "metadata": {
        "id": "tSQOOoytJqYL"
      },
      "execution_count": null,
      "outputs": []
    },
    {
      "cell_type": "code",
      "source": [
        "# можно увидеть, что значения поменялись \n",
        "c"
      ],
      "metadata": {
        "colab": {
          "base_uri": "https://localhost:8080/"
        },
        "id": "VOsmpwsBLBml",
        "outputId": "513782ed-e302-4c43-fe00-7911465dd30c"
      },
      "execution_count": null,
      "outputs": [
        {
          "output_type": "execute_result",
          "data": {
            "text/plain": [
              "[1, 2, 1, 4, 5, 6, 7, 8, 9]"
            ]
          },
          "metadata": {},
          "execution_count": 8
        }
      ]
    },
    {
      "cell_type": "code",
      "source": [
        "# можно так же заменять целые диапазоны\n",
        "# теперь вместо диапазона начинающегося с 1 индеса включительно\n",
        "# и заканчивающегося на 2 индесе не включая записаны значения 10 и 20\n",
        "c[1:2] = [10, 20]\n",
        "c"
      ],
      "metadata": {
        "colab": {
          "base_uri": "https://localhost:8080/"
        },
        "id": "ZfO0Yz4OLFAE",
        "outputId": "e244dae0-7b31-4d9e-a64d-400d331fef35"
      },
      "execution_count": null,
      "outputs": [
        {
          "output_type": "execute_result",
          "data": {
            "text/plain": [
              "[1, 10, 20, 1, 4, 5, 6, 7, 8, 9]"
            ]
          },
          "metadata": {},
          "execution_count": 9
        }
      ]
    },
    {
      "cell_type": "markdown",
      "source": [
        "#### Append, pop\n",
        "\n",
        "Эти два метода списка чаще всего используются в реальной работе:\n",
        "\n",
        "\n",
        "c.append(elem)\n",
        "\n",
        "добавление элемента elem в конец списка c:"
      ],
      "metadata": {
        "id": "lGGho2N9L3h7"
      }
    },
    {
      "cell_type": "code",
      "source": [
        "mass = [1, 2, 3]"
      ],
      "metadata": {
        "id": "_vTIaAjkjrp_"
      },
      "execution_count": null,
      "outputs": []
    },
    {
      "cell_type": "code",
      "source": [
        "mass + [3]"
      ],
      "metadata": {
        "colab": {
          "base_uri": "https://localhost:8080/"
        },
        "id": "SYnt-NuBj_GS",
        "outputId": "7ffea86c-232a-42de-f5df-b227e09a77a3"
      },
      "execution_count": null,
      "outputs": [
        {
          "output_type": "execute_result",
          "data": {
            "text/plain": [
              "[1, 2, 3, 3]"
            ]
          },
          "metadata": {},
          "execution_count": 11
        }
      ]
    },
    {
      "cell_type": "code",
      "source": [
        "mass"
      ],
      "metadata": {
        "colab": {
          "base_uri": "https://localhost:8080/"
        },
        "id": "X4TDsQSApyAn",
        "outputId": "c8c02204-692f-42c6-e4df-c13713d20073"
      },
      "execution_count": null,
      "outputs": [
        {
          "output_type": "execute_result",
          "data": {
            "text/plain": [
              "[1, 2, 3]"
            ]
          },
          "metadata": {},
          "execution_count": 12
        }
      ]
    },
    {
      "cell_type": "code",
      "source": [
        "d=[]\n",
        "for i in range(1,7):\n",
        "  d.append(i)\n",
        "print(d)"
      ],
      "metadata": {
        "colab": {
          "base_uri": "https://localhost:8080/"
        },
        "id": "Jqjbld1ILa-E",
        "outputId": "720e5cc0-5ef8-4ed2-ec09-30319dc83d52"
      },
      "execution_count": null,
      "outputs": [
        {
          "output_type": "stream",
          "name": "stdout",
          "text": [
            "[1, 2, 3, 4, 5, 6]\n"
          ]
        }
      ]
    },
    {
      "cell_type": "markdown",
      "source": [
        "Разница между конкатенацией и добавлением элемента следующая: в первом случае это создание нового значения и присвоение этого нового значения переменной, во втором случае - это изменение текущего значения. Так что конкатенация определена и для строк и для списков, а добавление элемента - только для списков."
      ],
      "metadata": {
        "id": "lrdziSmMMuoA"
      }
    },
    {
      "cell_type": "markdown",
      "source": [
        "c.pop()"
      ],
      "metadata": {
        "id": "WZQoYL9kMftY"
      }
    },
    {
      "cell_type": "code",
      "source": [
        "mass.pop(0)\n",
        "\n",
        "mass"
      ],
      "metadata": {
        "id": "y049rUegMDYR",
        "colab": {
          "base_uri": "https://localhost:8080/"
        },
        "outputId": "ae25b387-f1c4-4560-f4b9-805aeb46b9a3"
      },
      "execution_count": null,
      "outputs": [
        {
          "output_type": "execute_result",
          "data": {
            "text/plain": [
              "[2, 3]"
            ]
          },
          "metadata": {},
          "execution_count": 14
        }
      ]
    },
    {
      "cell_type": "code",
      "source": [
        "val_list = [0, 0]\n",
        "def cmp_prev(val):\n",
        "    global val_list\n",
        "    if int(val) > int(val_list[0]+val_list[1]):\n",
        "        val_list.pop(0)\n",
        "        val_list.append(val)\n",
        "        return(True)\n",
        "    else:\n",
        "        return(False)\n",
        "print(cmp_prev(input()))"
      ],
      "metadata": {
        "id": "meMWKxyu6QTG"
      },
      "execution_count": null,
      "outputs": []
    },
    {
      "cell_type": "code",
      "source": [
        "class MyQueue:\n",
        "    def __init__(self, list):\n",
        "        self.list = list\n",
        "\n",
        "    def push(self, val):\n",
        "        self.list.append(val)\n",
        "\n",
        "    def front(self):\n",
        "        return (self.list[0])\n",
        "\n",
        "    def pop(self):\n",
        "        self.list.pop(0)\n",
        "z = MyQueue([1, 2, 3])\n",
        "z.push(3)\n",
        "print(z.list)\n",
        "print(z.front())\n",
        "z.pop()\n",
        "print(z.list)"
      ],
      "metadata": {
        "id": "0RRoAQaPvekd"
      },
      "execution_count": null,
      "outputs": []
    },
    {
      "cell_type": "markdown",
      "source": [
        "# Новый раздел"
      ],
      "metadata": {
        "id": "itMr26chamHH"
      }
    },
    {
      "cell_type": "markdown",
      "source": [
        "Операция pop() имеет возвращаемое значение - элемент, который был удален. Пример использования:"
      ],
      "metadata": {
        "id": "iXSoIDkIOOYU"
      }
    },
    {
      "cell_type": "code",
      "source": [
        "deleted = mass.pop()\n",
        "\n",
        "mass"
      ],
      "metadata": {
        "id": "JodDW5iTONMu",
        "colab": {
          "base_uri": "https://localhost:8080/"
        },
        "outputId": "0e7fa043-ca90-48c2-8a86-ab63156974e0"
      },
      "execution_count": null,
      "outputs": [
        {
          "output_type": "execute_result",
          "data": {
            "text/plain": [
              "[1, 2]"
            ]
          },
          "metadata": {},
          "execution_count": 103
        }
      ]
    },
    {
      "cell_type": "code",
      "source": [
        "# удаленный элемент, при прошлом запуске \n",
        "# результат возвращения функции pop никуда не был записан\n",
        "deleted"
      ],
      "metadata": {
        "id": "8iFCTgweMigv",
        "colab": {
          "base_uri": "https://localhost:8080/"
        },
        "outputId": "3b772d76-7d07-4338-c8f3-59f4d9cdaaae"
      },
      "execution_count": null,
      "outputs": [
        {
          "output_type": "execute_result",
          "data": {
            "text/plain": [
              "3"
            ]
          },
          "metadata": {},
          "execution_count": 104
        }
      ]
    },
    {
      "cell_type": "markdown",
      "source": [
        "Подводные камни"
      ],
      "metadata": {
        "id": "K6onj93xlIVQ"
      }
    },
    {
      "cell_type": "code",
      "source": [
        "#100 45 5 6733 42 86 334\n",
        "numbers = input(\"введи свои любимые числа через пробел: \").split()\n",
        "\n",
        "print(numbers)"
      ],
      "metadata": {
        "id": "IiKXnp6NlHld",
        "colab": {
          "base_uri": "https://localhost:8080/"
        },
        "outputId": "9ea716d0-15df-49bd-dbe8-fa1d3a20e075"
      },
      "execution_count": null,
      "outputs": [
        {
          "output_type": "stream",
          "name": "stdout",
          "text": [
            "введи свои любимые числа через пробел: 555055 888 888 777 777 4 \n",
            "['555055', '888', '888', '777', '777', '4']\n"
          ]
        }
      ]
    },
    {
      "cell_type": "code",
      "source": [
        "summ = 0\n",
        "\n",
        "for i in numbers:\n",
        "  summ += int(i)\n",
        "\n",
        "print(summ)"
      ],
      "metadata": {
        "id": "2POYv8vllO8y",
        "colab": {
          "base_uri": "https://localhost:8080/"
        },
        "outputId": "aa2584d8-7406-4b83-c183-d9535e7e46a8"
      },
      "execution_count": null,
      "outputs": [
        {
          "output_type": "stream",
          "name": "stdout",
          "text": [
            "558389\n"
          ]
        }
      ]
    },
    {
      "cell_type": "markdown",
      "source": [
        "### Генератор списков"
      ],
      "metadata": {
        "id": "1oK6OhixGj_0"
      }
    },
    {
      "cell_type": "markdown",
      "source": [
        "Генератор списков - компактный способ создания списка из любого существующего итерируемого объекта. Его можно использовать генератор для фильтрации, форматирования, изменения или выполнения других небольших задач с существующими итерируемыми объектами, такими как строки, кортежи, множества, списки и т.д."
      ],
      "metadata": {
        "id": "5FAT9_ZXG0cY"
      }
    },
    {
      "cell_type": "code",
      "source": [
        "a = [i**3 for i in range(12)]\n",
        "a"
      ],
      "metadata": {
        "id": "Mh5LoAXdGjpC",
        "colab": {
          "base_uri": "https://localhost:8080/"
        },
        "outputId": "f6d2b545-7b68-4eb8-898a-b66c63f09d2c"
      },
      "execution_count": null,
      "outputs": [
        {
          "output_type": "execute_result",
          "data": {
            "text/plain": [
              "[0, 1, 8, 27, 64, 125, 216, 343, 512, 729, 1000, 1331]"
            ]
          },
          "metadata": {},
          "execution_count": 1
        }
      ]
    },
    {
      "cell_type": "code",
      "source": [
        "[elem -10 for elem in a]"
      ],
      "metadata": {
        "id": "_C52zxhpHBJt"
      },
      "execution_count": null,
      "outputs": []
    },
    {
      "cell_type": "code",
      "source": [
        "continum = list(input())\n",
        "val = 0\n",
        "for count_a, word_a in enumerate(continum):\n",
        "  if word_a == 'a':\n",
        "    position_a = count_a\n",
        "    print(f'a - {position_a}')\n",
        "    for count_b, word_b in enumerate(continum):\n",
        "      if word_b == \"b\" and count_b > position_a:\n",
        "        print(f'b - {count_b}')\n",
        "        val +=1\n",
        "print(f'val - {val}')\n",
        "\n",
        "    \n",
        "\n",
        "\n",
        "\n"
      ],
      "metadata": {
        "id": "S1ZN0m5t1u6B",
        "outputId": "ce86cd25-2739-49be-ad58-3a00ecb4d3ad",
        "colab": {
          "base_uri": "https://localhost:8080/",
          "height": 380
        }
      },
      "execution_count": null,
      "outputs": [
        {
          "output_type": "error",
          "ename": "KeyboardInterrupt",
          "evalue": "ignored",
          "traceback": [
            "\u001b[0;31m---------------------------------------------------------------------------\u001b[0m",
            "\u001b[0;31mKeyboardInterrupt\u001b[0m                         Traceback (most recent call last)",
            "\u001b[0;32m<ipython-input-3-2bcf2e8fca2e>\u001b[0m in \u001b[0;36m<module>\u001b[0;34m\u001b[0m\n\u001b[0;32m----> 1\u001b[0;31m \u001b[0mcontinum\u001b[0m \u001b[0;34m=\u001b[0m \u001b[0mlist\u001b[0m\u001b[0;34m(\u001b[0m\u001b[0minput\u001b[0m\u001b[0;34m(\u001b[0m\u001b[0;34m)\u001b[0m\u001b[0;34m)\u001b[0m\u001b[0;34m\u001b[0m\u001b[0;34m\u001b[0m\u001b[0m\n\u001b[0m\u001b[1;32m      2\u001b[0m \u001b[0mval\u001b[0m \u001b[0;34m=\u001b[0m \u001b[0;36m0\u001b[0m\u001b[0;34m\u001b[0m\u001b[0;34m\u001b[0m\u001b[0m\n\u001b[1;32m      3\u001b[0m \u001b[0;32mfor\u001b[0m \u001b[0mcount_a\u001b[0m\u001b[0;34m,\u001b[0m \u001b[0mword_a\u001b[0m \u001b[0;32min\u001b[0m \u001b[0menumerate\u001b[0m\u001b[0;34m(\u001b[0m\u001b[0mcontinum\u001b[0m\u001b[0;34m)\u001b[0m\u001b[0;34m:\u001b[0m\u001b[0;34m\u001b[0m\u001b[0;34m\u001b[0m\u001b[0m\n\u001b[1;32m      4\u001b[0m   \u001b[0;32mif\u001b[0m \u001b[0mword_a\u001b[0m \u001b[0;34m==\u001b[0m \u001b[0;34m'a'\u001b[0m\u001b[0;34m:\u001b[0m\u001b[0;34m\u001b[0m\u001b[0;34m\u001b[0m\u001b[0m\n\u001b[1;32m      5\u001b[0m     \u001b[0mposition_a\u001b[0m \u001b[0;34m=\u001b[0m \u001b[0mcount_a\u001b[0m\u001b[0;34m\u001b[0m\u001b[0;34m\u001b[0m\u001b[0m\n",
            "\u001b[0;32m/usr/local/lib/python3.9/dist-packages/ipykernel/kernelbase.py\u001b[0m in \u001b[0;36mraw_input\u001b[0;34m(self, prompt)\u001b[0m\n\u001b[1;32m    858\u001b[0m                 \u001b[0;34m\"raw_input was called, but this frontend does not support input requests.\"\u001b[0m\u001b[0;34m\u001b[0m\u001b[0;34m\u001b[0m\u001b[0m\n\u001b[1;32m    859\u001b[0m             )\n\u001b[0;32m--> 860\u001b[0;31m         return self._input_request(str(prompt),\n\u001b[0m\u001b[1;32m    861\u001b[0m             \u001b[0mself\u001b[0m\u001b[0;34m.\u001b[0m\u001b[0m_parent_ident\u001b[0m\u001b[0;34m,\u001b[0m\u001b[0;34m\u001b[0m\u001b[0;34m\u001b[0m\u001b[0m\n\u001b[1;32m    862\u001b[0m             \u001b[0mself\u001b[0m\u001b[0;34m.\u001b[0m\u001b[0m_parent_header\u001b[0m\u001b[0;34m,\u001b[0m\u001b[0;34m\u001b[0m\u001b[0;34m\u001b[0m\u001b[0m\n",
            "\u001b[0;32m/usr/local/lib/python3.9/dist-packages/ipykernel/kernelbase.py\u001b[0m in \u001b[0;36m_input_request\u001b[0;34m(self, prompt, ident, parent, password)\u001b[0m\n\u001b[1;32m    902\u001b[0m             \u001b[0;32mexcept\u001b[0m \u001b[0mKeyboardInterrupt\u001b[0m\u001b[0;34m:\u001b[0m\u001b[0;34m\u001b[0m\u001b[0;34m\u001b[0m\u001b[0m\n\u001b[1;32m    903\u001b[0m                 \u001b[0;31m# re-raise KeyboardInterrupt, to truncate traceback\u001b[0m\u001b[0;34m\u001b[0m\u001b[0;34m\u001b[0m\u001b[0m\n\u001b[0;32m--> 904\u001b[0;31m                 \u001b[0;32mraise\u001b[0m \u001b[0mKeyboardInterrupt\u001b[0m\u001b[0;34m(\u001b[0m\u001b[0;34m\"Interrupted by user\"\u001b[0m\u001b[0;34m)\u001b[0m \u001b[0;32mfrom\u001b[0m \u001b[0;32mNone\u001b[0m\u001b[0;34m\u001b[0m\u001b[0;34m\u001b[0m\u001b[0m\n\u001b[0m\u001b[1;32m    905\u001b[0m             \u001b[0;32mexcept\u001b[0m \u001b[0mException\u001b[0m \u001b[0;32mas\u001b[0m \u001b[0me\u001b[0m\u001b[0;34m:\u001b[0m\u001b[0;34m\u001b[0m\u001b[0;34m\u001b[0m\u001b[0m\n\u001b[1;32m    906\u001b[0m                 \u001b[0mself\u001b[0m\u001b[0;34m.\u001b[0m\u001b[0mlog\u001b[0m\u001b[0;34m.\u001b[0m\u001b[0mwarning\u001b[0m\u001b[0;34m(\u001b[0m\u001b[0;34m\"Invalid Message:\"\u001b[0m\u001b[0;34m,\u001b[0m \u001b[0mexc_info\u001b[0m\u001b[0;34m=\u001b[0m\u001b[0;32mTrue\u001b[0m\u001b[0;34m)\u001b[0m\u001b[0;34m\u001b[0m\u001b[0;34m\u001b[0m\u001b[0m\n",
            "\u001b[0;31mKeyboardInterrupt\u001b[0m: Interrupted by user"
          ]
        }
      ]
    },
    {
      "cell_type": "code",
      "source": [
        "colors = ['Orange']\n",
        "colors.append('Red')\n",
        "colors.append('Blue')\n",
        "colors.append('Green')\n",
        "colors.insert(0, 'Violet')\n",
        "colors.insert(2, 'Purple')\n",
        "\n",
        "print(colors)"
      ],
      "metadata": {
        "id": "hjPP4mVs8Tpy",
        "colab": {
          "base_uri": "https://localhost:8080/"
        },
        "outputId": "205bfb5e-db15-4231-e365-ee70d25106af"
      },
      "execution_count": null,
      "outputs": [
        {
          "output_type": "stream",
          "name": "stdout",
          "text": [
            "['Violet', 'Orange', 'Purple', 'Red', 'Blue', 'Green']\n"
          ]
        }
      ]
    },
    {
      "cell_type": "code",
      "source": [],
      "metadata": {
        "id": "MqkXcSJAAXW_"
      },
      "execution_count": null,
      "outputs": []
    }
  ]
}